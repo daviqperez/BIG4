{
 "cells": [
  {
   "cell_type": "markdown",
   "metadata": {
    "deletable": false,
    "editable": false,
    "etc_identifier": "653a3605-5bda-4e1f-beef-04a0173d3f41",
    "nbgrader": {
     "cell_type": "markdown",
     "checksum": "48770f8b5f5d3062d3badd51fcafc401",
     "grade": false,
     "grade_id": "cell-a6c4f74309fc2379",
     "locked": true,
     "schema_version": 3,
     "solution": false
    }
   },
   "source": [
    "# Assignment 4\n",
    "## Description\n",
    "In this assignment you must read in a file of metropolitan regions and associated sports teams from [assets/wikipedia_data.html](assets/wikipedia_data.html) and answer some questions about each metropolitan region. Each of these regions may have one or more teams from the \"Big 4\": NFL (football, in [assets/nfl.csv](assets/nfl.csv)), MLB (baseball, in [assets/mlb.csv](assets/mlb.csv)), NBA (basketball, in [assets/nba.csv](assets/nba.csv) or NHL (hockey, in [assets/nhl.csv](assets/nhl.csv)). Please keep in mind that all questions are from the perspective of the metropolitan region, and that this file is the \"source of authority\" for the location of a given sports team. Thus teams which are commonly known by a different area (e.g. \"Oakland Raiders\") need to be mapped into the metropolitan region given (e.g. San Francisco Bay Area). This will require some human data understanding outside of the data you've been given (e.g. you will have to hand-code some names, and might need to google to find out where teams are)!\n",
    "\n",
    "For each sport I would like you to answer the question: **what is the win/loss ratio's correlation with the population of the city it is in?** Win/Loss ratio refers to the number of wins over the number of wins plus the number of losses. Remember that to calculate the correlation with [`pearsonr`](https://docs.scipy.org/doc/scipy/reference/generated/scipy.stats.pearsonr.html), so you are going to send in two ordered lists of values, the populations from the wikipedia_data.html file and the win/loss ratio for a given sport in the same order. Average the win/loss ratios for those cities which have multiple teams of a single sport. Each sport is worth an equal amount in this assignment (20%\\*4=80%) of the grade for this assignment. You should only use data **from year 2018** for your analysis -- this is important!\n",
    "\n",
    "## Notes\n",
    "\n",
    "1. Do not include data about the MLS or CFL in any of the work you are doing, we're only interested in the Big 4 in this assignment.\n",
    "2. I highly suggest that you first tackle the four correlation questions in order, as they are all similar and worth the majority of grades for this assignment. This is by design!\n",
    "3. It's fair game to talk with peers about high level strategy as well as the relationship between metropolitan areas and sports teams. However, do not post code solving aspects of the assignment (including such as dictionaries mapping areas to teams, or regexes which will clean up names).\n",
    "4. There may be more teams than the assert statements test, remember to collapse multiple teams in one city into a single value!"
   ]
  },
  {
   "cell_type": "markdown",
   "metadata": {
    "deletable": false,
    "editable": false,
    "nbgrader": {
     "cell_type": "markdown",
     "checksum": "369ff9ecf0ee04640574205cbc697f94",
     "grade": false,
     "grade_id": "cell-712b2b5da63d4505",
     "locked": true,
     "schema_version": 3,
     "solution": false
    }
   },
   "source": [
    "## Question 1\n",
    "For this question, calculate the win/loss ratio's correlation with the population of the city it is in for the **NHL** using **2018** data."
   ]
  },
  {
   "cell_type": "code",
   "execution_count": 2,
   "metadata": {
    "deletable": false,
    "nbgrader": {
     "cell_type": "code",
     "checksum": "1cac4803b02502929f5b1612d48db2b5",
     "grade": false,
     "grade_id": "cell-69b16e4386e58030",
     "locked": false,
     "schema_version": 3,
     "solution": true
    }
   },
   "outputs": [
    {
     "data": {
      "text/plain": [
       "0.012486162921209909"
      ]
     },
     "execution_count": 2,
     "metadata": {},
     "output_type": "execute_result"
    }
   ],
   "source": [
    "import pandas as pd\n",
    "import numpy as np\n",
    "import scipy.stats as stats\n",
    "import re\n",
    "\n",
    "nhl_df=pd.read_csv(\"nhl.csv\")\n",
    "cities=pd.read_html(\"wikipedia_data.html\")[1]\n",
    "cities=cities.iloc[:-1,[0,3,5,6,7,8]]\n",
    "\n",
    "########################################################################\n",
    "\n",
    "# cleaning the cities dataframe\n",
    "cities[\"NHL\"]=cities[\"NHL\"].apply(lambda x: re.sub(\"\\[.+\\]\", \"\", x))\n",
    "cities=cities[(cities['NHL'] != '—') & (cities['NHL'] != '')] #drop cities without NHL team\n",
    "cities=cities[['Metropolitan area', 'Population (2016 est.)[8]', 'NHL']] # get important columns\n",
    "cities.rename(columns={'Population (2016 est.)[8]':'Population'}, inplace = True)\n",
    "\n",
    "multiples_teams={\"Rangers Islanders Devils\": \"Rangers,Islanders,Devils\", \"Kings Ducks\": \"Kings,Ducks\"} #create a dictionarie to separe the rows with multiple teams\n",
    "cities[\"NHL\"] = cities[\"NHL\"].replace(multiples_teams)\n",
    "cities[\"NHL\"] = cities[\"NHL\"].apply(lambda x: x.split(\",\")) #split the text in multiple items accroding to the comma spearator\n",
    "cities = cities.explode(\"NHL\") # explode the multiples itemes create in the previus step in multiple rows\n",
    "\n",
    "########################################################################\n",
    "\n",
    "# cleaning nhl_df dataframe\n",
    "nhl_df=nhl_df[nhl_df['year']==2018] #get 2018 data\n",
    "nhl_df=nhl_df[['team', 'W', 'L']] # get win, loses columns\n",
    "nhl_df['team'] = nhl_df['team'].map(lambda x: re.sub(\"\\*\", \"\", x)) # clear index labels having '*'\n",
    "\n",
    "########################################################################\n",
    "\n",
    "#make a dictionary with the names of the teams (the words that are in list B NHL column):\n",
    "#https://stackoverflow.com/questions/73049057/comparing-a-list-to-another-nested-list-in-python\n",
    "#https://stackoverflow.com/questions/952914/how-do-i-make-a-flat-list-out-of-a-list-of-lists\n",
    "\n",
    "A = nhl_df['team'].map(lambda x: re.split(r\" \", x))\n",
    "B = cities['NHL'].apply(lambda x: re.split(r\" \", x))\n",
    "\n",
    "def flatten(x):\n",
    "    for e in x:\n",
    "        if isinstance(e, list):\n",
    "            yield from flatten(e)\n",
    "        else:\n",
    "            yield e \n",
    "            \n",
    "newlist=[x for x in flatten(A) if x in flatten(B)]\n",
    "\n",
    "#nhl_df['team'] = nhl_df.apply(lambda x: ' '.join([i for i in newlist if i.lower() in x['team'].lower().split()]), axis=1) #apply dictionarie to column teams\n",
    "nhl_df['team'] = nhl_df['team'].apply(lambda x: ' '.join(i for i in x.split() if i in newlist)) #The difference with the previus aproach is that this one keep the order of the words.\n",
    "nhl_df=nhl_df[(nhl_df['team'] != '')]\n",
    "\n",
    "########################################################################\n",
    "\n",
    "# merge the dataframes\n",
    "\n",
    "df = pd.merge(cities, nhl_df, left_on=\"NHL\", right_on=\"team\")\n",
    "df = df.astype({'W': int, 'L': int, 'Population': int}) # redifine data type for calculations\n",
    "df['W/L rate'] = df['W']/(df['W']+df['L'])\n",
    "df=df.groupby('Metropolitan area').agg({'W/L rate': np.mean, 'Population': np.mean, 'W':np.mean, 'L':np.mean})\n",
    "\n",
    "########################################################################\n",
    "\n",
    "def nhl_correlation(): \n",
    "    # YOUR CODE HERE\n",
    "    #raise NotImplementedError()\n",
    "    \n",
    "    population_by_region = df['Population'] # pass in metropolitan area population from cities\n",
    "    win_loss_by_region = df['W/L rate'] # pass in win/loss ratio from nhl_df in the same order as cities[\"Metropolitan area\"]\n",
    "\n",
    "    assert len(population_by_region) == len(win_loss_by_region), \"Q1: Your lists must be the same length\"\n",
    "    assert len(population_by_region) == 28, \"Q1: There should be 28 teams being analysed for NHL\"\n",
    "    \n",
    "    return stats.pearsonr(population_by_region, win_loss_by_region)[0]\n",
    "\n",
    "nhl_correlation()"
   ]
  },
  {
   "cell_type": "code",
   "execution_count": null,
   "metadata": {
    "deletable": false,
    "editable": false,
    "nbgrader": {
     "cell_type": "code",
     "checksum": "52a581df513c71153e105b93764cda4b",
     "grade": true,
     "grade_id": "cell-ebe0b2dfe1067e63",
     "locked": true,
     "points": 20,
     "schema_version": 3,
     "solution": false
    }
   },
   "outputs": [],
   "source": []
  },
  {
   "cell_type": "markdown",
   "metadata": {
    "deletable": false,
    "editable": false,
    "nbgrader": {
     "cell_type": "markdown",
     "checksum": "988912cae4968d81473f46d783e79c16",
     "grade": false,
     "grade_id": "cell-cb964e690298b71d",
     "locked": true,
     "schema_version": 3,
     "solution": false
    }
   },
   "source": [
    "## Question 2\n",
    "For this question, calculate the win/loss ratio's correlation with the population of the city it is in for the **NBA** using **2018** data."
   ]
  },
  {
   "cell_type": "code",
   "execution_count": 3,
   "metadata": {
    "deletable": false,
    "nbgrader": {
     "cell_type": "code",
     "checksum": "9394222aafc8ccab0a228098ba0d6010",
     "grade": false,
     "grade_id": "cell-5a5f21279e3d3572",
     "locked": false,
     "schema_version": 3,
     "solution": true
    }
   },
   "outputs": [
    {
     "data": {
      "text/plain": [
       "-0.17657160252844614"
      ]
     },
     "execution_count": 3,
     "metadata": {},
     "output_type": "execute_result"
    }
   ],
   "source": [
    "import pandas as pd\n",
    "import numpy as np\n",
    "import scipy.stats as stats\n",
    "import re\n",
    "\n",
    "nba_df=pd.read_csv(\"nba.csv\")\n",
    "cities=pd.read_html(\"wikipedia_data.html\")[1]\n",
    "cities=cities.iloc[:-1,[0,3,5,6,7,8]]\n",
    "\n",
    "########################################################################\n",
    "\n",
    "# cleaning the cities dataframe\n",
    "cities[\"NBA\"]=cities[\"NBA\"].apply(lambda x: re.sub(\"\\[.+\\]\", \"\", x))\n",
    "cities=cities[(cities['NBA'] != '—') & (cities['NBA'] != '')] #drop cities without NHL team\n",
    "cities=cities[['Metropolitan area', 'Population (2016 est.)[8]', 'NBA']] # get important columns\n",
    "cities.rename(columns={'Population (2016 est.)[8]':'Population'}, inplace = True)\n",
    "\n",
    "multiples_teams={\"Knicks Nets\": \"Knicks,Nets\", \"Lakers Clippers\": \"Lakers,Clippers\"} #create a dictionarie to separe the rows with multiple teams\n",
    "cities[\"NBA\"] = cities[\"NBA\"].replace(multiples_teams)\n",
    "cities[\"NBA\"] = cities[\"NBA\"].apply(lambda x: x.split(\",\")) #split the text in multiple items accroding to the comma spearator\n",
    "cities = cities.explode(\"NBA\") # explode the multiples itemes create in the previus step in multiple rows\n",
    "\n",
    "########################################################################\n",
    "\n",
    "# cleaning nba_df dataframe\n",
    "nba_df=nba_df[nba_df['year']==2018] #get 2018 data\n",
    "nba_df=nba_df[['team', 'W', 'L']] # get win, loses columns\n",
    "nba_df['team'] = nba_df['team'].map(lambda x: re.sub(\"(\\*)*\\s\\(\\d+\\)\", \"\", x)) # clear index labels having '*' or (0-9)\n",
    "\n",
    "########################################################################\n",
    "\n",
    "#make a dictionary with the names of the teams (the words that are in list B NHL column):\n",
    "#https://stackoverflow.com/questions/73049057/comparing-a-list-to-another-nested-list-in-python\n",
    "#https://stackoverflow.com/questions/952914/how-do-i-make-a-flat-list-out-of-a-list-of-lists\n",
    "\n",
    "A = nba_df['team'].map(lambda x: re.split(r\" \", x))\n",
    "B = cities['NBA'].apply(lambda x: re.split(r\" \", x))\n",
    "\n",
    "def flatten(x):\n",
    "    for e in x:\n",
    "        if isinstance(e, list):\n",
    "            yield from flatten(e)\n",
    "        else:\n",
    "            yield e \n",
    "            \n",
    "newlist=[x for x in flatten(A) if x in flatten(B)]\n",
    "\n",
    "nba_df['team'] = nba_df['team'].apply(lambda x: ' '.join(i for i in x.split() if i in newlist)) #apply dictionarie to column teams\n",
    "nba_df=nba_df[(nba_df['team'] != '')]\n",
    "\n",
    "########################################################################\n",
    "\n",
    "# merge the dataframes\n",
    "\n",
    "df = pd.merge(cities, nba_df, left_on=\"NBA\", right_on=\"team\")\n",
    "df = df.astype({'W': int, 'L': int, 'Population': int}) # redifine data type for calculations\n",
    "df['W/L rate'] = df['W']/(df['W']+df['L'])\n",
    "df=df.groupby('Metropolitan area').agg({'W/L rate': np.mean, 'Population': np.mean, 'W':np.mean, 'L':np.mean})\n",
    "\n",
    "########################################################################\n",
    "\n",
    "def nba_correlation():\n",
    "    # YOUR CODE HERE\n",
    "    #raise NotImplementedError()\n",
    "    \n",
    "    population_by_region = df['Population'] # pass in metropolitan area population from cities\n",
    "    win_loss_by_region = df['W/L rate'] # pass in win/loss ratio from nba_df in the same order as cities[\"Metropolitan area\"]\n",
    "\n",
    "    assert len(population_by_region) == len(win_loss_by_region), \"Q2: Your lists must be the same length\"\n",
    "    assert len(population_by_region) == 28, \"Q2: There should be 28 teams being analysed for NBA\"\n",
    "\n",
    "    return stats.pearsonr(population_by_region, win_loss_by_region)[0]\n",
    "\n",
    "nba_correlation()"
   ]
  },
  {
   "cell_type": "code",
   "execution_count": null,
   "metadata": {
    "deletable": false,
    "editable": false,
    "nbgrader": {
     "cell_type": "code",
     "checksum": "bbdeb8eb22f525a34c10dc8798324e42",
     "grade": true,
     "grade_id": "cell-e573b2b4a282b470",
     "locked": true,
     "points": 20,
     "schema_version": 3,
     "solution": false
    }
   },
   "outputs": [],
   "source": []
  },
  {
   "cell_type": "markdown",
   "metadata": {
    "deletable": false,
    "editable": false,
    "nbgrader": {
     "cell_type": "markdown",
     "checksum": "1a1a5809f675ca033086422007cd73bd",
     "grade": false,
     "grade_id": "cell-96e15e4335df78f4",
     "locked": true,
     "schema_version": 3,
     "solution": false
    }
   },
   "source": [
    "## Question 3\n",
    "For this question, calculate the win/loss ratio's correlation with the population of the city it is in for the **MLB** using **2018** data."
   ]
  },
  {
   "cell_type": "code",
   "execution_count": 4,
   "metadata": {
    "deletable": false,
    "nbgrader": {
     "cell_type": "code",
     "checksum": "27e8c0da6c9fa0dffc10488314335b6c",
     "grade": false,
     "grade_id": "cell-33b00fc3f3467b0c",
     "locked": false,
     "schema_version": 3,
     "solution": true
    }
   },
   "outputs": [
    {
     "data": {
      "text/plain": [
       "0.15027698302669307"
      ]
     },
     "execution_count": 4,
     "metadata": {},
     "output_type": "execute_result"
    }
   ],
   "source": [
    "import pandas as pd\n",
    "import numpy as np\n",
    "import scipy.stats as stats\n",
    "import re\n",
    "\n",
    "mlb_df=pd.read_csv(\"mlb.csv\")\n",
    "cities=pd.read_html(\"wikipedia_data.html\")[1]\n",
    "cities=cities.iloc[:-1,[0,3,5,6,7,8]]\n",
    "\n",
    "########################################################################\n",
    "\n",
    "# cleaning the cities dataframe\n",
    "cities[\"MLB\"]=cities[\"MLB\"].apply(lambda x: re.sub(\"\\[.+\\]\", \"\", x))\n",
    "cities=cities[(cities['MLB'] != '—') & (cities['MLB'] != '')] #drop cities without NHL team\n",
    "cities=cities[['Metropolitan area', 'Population (2016 est.)[8]', 'MLB']] # get important columns\n",
    "cities.rename(columns={'Population (2016 est.)[8]':'Population'}, inplace = True)\n",
    "\n",
    "multiples_teams={\"Yankees Mets\": \"Yankees,Mets\", \"Dodgers Angels\": \"Dodgers,Angels\", \"Giants Athletics\":\"Giants,Athletics\", \"Cubs White Sox\":\"Cubs,White Sox\"} #create a dictionarie to separe the rows with multiple teams\n",
    "cities[\"MLB\"] = cities[\"MLB\"].replace(multiples_teams)\n",
    "cities[\"MLB\"] = cities[\"MLB\"].apply(lambda x: x.split(\",\")) #split the text in multiple items accroding to the comma spearator\n",
    "cities = cities.explode(\"MLB\") # explode the multiples itemes create in the previus step in multiple rows\n",
    "\n",
    "########################################################################\n",
    "\n",
    "# cleaning mlb_df dataframe\n",
    "mlb_df=mlb_df[mlb_df['year']==2018] #get 2018 data\n",
    "mlb_df=mlb_df[['team', 'W', 'L']] # get win, loses columns\n",
    "\n",
    "########################################################################\n",
    "\n",
    "#make a dictionary with the names of the teams (the words that are in list B NHL column):\n",
    "#https://stackoverflow.com/questions/73049057/comparing-a-list-to-another-nested-list-in-python\n",
    "#https://stackoverflow.com/questions/952914/how-do-i-make-a-flat-list-out-of-a-list-of-lists\n",
    "\n",
    "A = mlb_df['team'].map(lambda x: re.split(r\" \", x))\n",
    "B = cities['MLB'].apply(lambda x: re.split(r\" \", x))\n",
    "\n",
    "def flatten(x):\n",
    "    for e in x:\n",
    "        if isinstance(e, list):\n",
    "            yield from flatten(e)\n",
    "        else:\n",
    "            yield e \n",
    "            \n",
    "newlist=[x for x in flatten(A) if x in flatten(B)]\n",
    "\n",
    "mlb_df['team'] = mlb_df['team'].apply(lambda x: ' '.join(i for i in x.split() if i in newlist)) #apply dictionarie to column teams.\n",
    "mlb_df=mlb_df[(mlb_df['team'] != '')]\n",
    "\n",
    "########################################################################\n",
    "\n",
    "# merge the dataframes\n",
    "\n",
    "df = pd.merge(cities, mlb_df, left_on=\"MLB\", right_on=\"team\")\n",
    "df = df.astype({'W': int, 'L': int, 'Population': int}) # redifine data type for calculations\n",
    "df['W/L rate'] = df['W']/(df['W']+df['L'])\n",
    "df=df.groupby('Metropolitan area').agg({'W/L rate': np.mean, 'Population': np.mean, 'W':np.mean, 'L':np.mean})\n",
    "\n",
    "def mlb_correlation(): \n",
    "    # YOUR CODE HERE\n",
    "    #raise NotImplementedError()\n",
    "    \n",
    "    population_by_region = df['Population'] # pass in metropolitan area population from cities\n",
    "    win_loss_by_region = df['W/L rate'] # pass in win/loss ratio from mlb_df in the same order as cities[\"Metropolitan area\"]\n",
    "\n",
    "    assert len(population_by_region) == len(win_loss_by_region), \"Q3: Your lists must be the same length\"\n",
    "    assert len(population_by_region) == 26, \"Q3: There should be 26 teams being analysed for MLB\"\n",
    "\n",
    "    return stats.pearsonr(population_by_region, win_loss_by_region)[0]\n",
    "\n",
    "mlb_correlation()"
   ]
  },
  {
   "cell_type": "code",
   "execution_count": null,
   "metadata": {
    "deletable": false,
    "editable": false,
    "nbgrader": {
     "cell_type": "code",
     "checksum": "cda33b094ba19ccc37a481e0dd29e0bc",
     "grade": true,
     "grade_id": "cell-764d4476f425c5a2",
     "locked": true,
     "points": 20,
     "schema_version": 3,
     "solution": false
    }
   },
   "outputs": [],
   "source": []
  },
  {
   "cell_type": "markdown",
   "metadata": {
    "deletable": false,
    "editable": false,
    "nbgrader": {
     "cell_type": "markdown",
     "checksum": "6977a6da9ed6d8b7a0b7e37bbeda709b",
     "grade": false,
     "grade_id": "cell-793df6c04dfb126e",
     "locked": true,
     "schema_version": 3,
     "solution": false
    }
   },
   "source": [
    "## Question 4\n",
    "For this question, calculate the win/loss ratio's correlation with the population of the city it is in for the **NFL** using **2018** data."
   ]
  },
  {
   "cell_type": "code",
   "execution_count": 6,
   "metadata": {
    "deletable": false,
    "nbgrader": {
     "cell_type": "code",
     "checksum": "c4914ad1e119278ec2bd567c52640b66",
     "grade": false,
     "grade_id": "cell-8ccebc209aeec8d9",
     "locked": false,
     "schema_version": 3,
     "solution": true
    }
   },
   "outputs": [
    {
     "data": {
      "text/plain": [
       "0.004922112149349409"
      ]
     },
     "execution_count": 6,
     "metadata": {},
     "output_type": "execute_result"
    }
   ],
   "source": [
    "import pandas as pd\n",
    "import numpy as np\n",
    "import scipy.stats as stats\n",
    "import re\n",
    "\n",
    "nfl_df=pd.read_csv(\"nfl.csv\")\n",
    "cities=pd.read_html(\"wikipedia_data.html\")[1]\n",
    "cities=cities.iloc[:-1,[0,3,5,6,7,8]]\n",
    "\n",
    "########################################################################\n",
    "\n",
    "# cleaning the cities dataframe\n",
    "cities[\"NFL\"]=cities[\"NFL\"].apply(lambda x: re.sub(\"\\[.+\\]\", \"\", x))\n",
    "cities= cities[cities['NFL'].str.contains(\"[a-zA-Z]\").fillna(False)]  #drop cities without any letter entry in NHL\n",
    "cities=cities[['Metropolitan area', 'Population (2016 est.)[8]', 'NFL']] # get important columns\n",
    "cities.rename(columns={'Population (2016 est.)[8]':'Population'}, inplace = True)\n",
    "\n",
    "multiples_teams={\"Giants Jets\": \"Giants,Jets\", \"Rams Chargers\": \"Rams,Chargers\", \"49ers Raiders\":\"49ers,Raiders\"} #create a dictionarie to separe the rows with multiple teams\n",
    "cities[\"NFL\"] = cities[\"NFL\"].replace(multiples_teams)\n",
    "cities[\"NFL\"] = cities[\"NFL\"].apply(lambda x: x.split(\",\")) #split the text in multiple items accroding to the comma spearator\n",
    "cities = cities.explode(\"NFL\") # explode the multiples itemes create in the previus step in multiple rows\n",
    "\n",
    "########################################################################\n",
    "\n",
    "# cleaning nfl_df dataframe\n",
    "nfl_df=nfl_df[nfl_df['year']==2018] #get 2018 data\n",
    "nfl_df=nfl_df[['team', 'W', 'L']] # get win, loses columns\n",
    "nfl_df['team'] = nfl_df['team'].map(lambda x: re.sub(\"(\\*|\\+)\", \"\", x)) # clear index labels having '*' or +\n",
    "\n",
    "########################################################################\n",
    "\n",
    "#make a dictionary with the names of the teams (the words that are in list B NHL column):\n",
    "#https://stackoverflow.com/questions/73049057/comparing-a-list-to-another-nested-list-in-python\n",
    "#https://stackoverflow.com/questions/952914/how-do-i-make-a-flat-list-out-of-a-list-of-lists\n",
    "\n",
    "A = nfl_df['team'].map(lambda x: re.split(r\" \", x))\n",
    "B = cities['NFL'].apply(lambda x: re.split(r\" \", x))\n",
    "\n",
    "def flatten(x):\n",
    "    for e in x:\n",
    "        if isinstance(e, list):\n",
    "            yield from flatten(e)\n",
    "        else:\n",
    "            yield e \n",
    "            \n",
    "newlist=[x for x in flatten(A) if x in flatten(B)]\n",
    "\n",
    "nfl_df['team'] = nfl_df['team'].apply(lambda x: ' '.join(i for i in x.split() if i in newlist)) #apply dictionarie to column teams.\n",
    "nfl_df=nfl_df[(nfl_df['team'] != '')]\n",
    "\n",
    "########################################################################\n",
    "\n",
    "# merge the dataframes\n",
    "\n",
    "df = pd.merge(cities, nfl_df, left_on=\"NFL\", right_on=\"team\")\n",
    "df = df.astype({'W': int, 'L': int, 'Population': int}) # redifine data type for calculations\n",
    "df['W/L rate'] = df['W']/(df['W']+df['L'])\n",
    "df=df.groupby('Metropolitan area').agg({'W/L rate': np.mean, 'Population': np.mean, 'W':np.mean, 'L':np.mean})\n",
    "\n",
    "def nfl_correlation(): \n",
    "    # YOUR CODE HERE\n",
    "    #raise NotImplementedError()\n",
    "    \n",
    "    population_by_region = df['Population'] # pass in metropolitan area population from cities\n",
    "    win_loss_by_region = df['W/L rate'] # pass in win/loss ratio from nfl_df in the same order as cities[\"Metropolitan area\"]\n",
    "\n",
    "    assert len(population_by_region) == len(win_loss_by_region), \"Q4: Your lists must be the same length\"\n",
    "    assert len(population_by_region) == 29, \"Q4: There should be 29 teams being analysed for NFL\"\n",
    "\n",
    "    return stats.pearsonr(population_by_region, win_loss_by_region)[0]\n",
    "\n",
    "nfl_correlation()"
   ]
  },
  {
   "cell_type": "code",
   "execution_count": null,
   "metadata": {
    "deletable": false,
    "editable": false,
    "nbgrader": {
     "cell_type": "code",
     "checksum": "e9415d6399aa49e3a1a60813afdefa3b",
     "grade": true,
     "grade_id": "cell-de7b148b9554dbda",
     "locked": true,
     "points": 20,
     "schema_version": 3,
     "solution": false
    }
   },
   "outputs": [],
   "source": []
  },
  {
   "cell_type": "markdown",
   "metadata": {
    "deletable": false,
    "editable": false,
    "nbgrader": {
     "cell_type": "markdown",
     "checksum": "b02d5cd3273f561e4ae939bb2a41740c",
     "grade": false,
     "grade_id": "cell-97b49d8639e908c4",
     "locked": true,
     "schema_version": 3,
     "solution": false
    }
   },
   "source": [
    "## Question 5\n",
    "In this question I would like you to explore the hypothesis that **given that an area has two sports teams in different sports, those teams will perform the same within their respective sports**. How I would like to see this explored is with a series of paired t-tests (so use [`ttest_rel`](https://docs.scipy.org/doc/scipy/reference/generated/scipy.stats.ttest_rel.html)) between all pairs of sports. Are there any sports where we can reject the null hypothesis? Again, average values where a sport has multiple teams in one region. Remember, you will only be including, for each sport, cities which have teams engaged in that sport, drop others as appropriate. This question is worth 20% of the grade for this assignment."
   ]
  },
  {
   "cell_type": "code",
   "execution_count": 11,
   "metadata": {
    "deletable": false,
    "nbgrader": {
     "cell_type": "code",
     "checksum": "6d78c961eb66f8d8c81f06d33ae8f393",
     "grade": false,
     "grade_id": "cell-92f25f44b8d1179f",
     "locked": false,
     "schema_version": 3,
     "solution": true
    }
   },
   "outputs": [
    {
     "data": {
      "text/html": [
       "<div>\n",
       "<style scoped>\n",
       "    .dataframe tbody tr th:only-of-type {\n",
       "        vertical-align: middle;\n",
       "    }\n",
       "\n",
       "    .dataframe tbody tr th {\n",
       "        vertical-align: top;\n",
       "    }\n",
       "\n",
       "    .dataframe thead th {\n",
       "        text-align: right;\n",
       "    }\n",
       "</style>\n",
       "<table border=\"1\" class=\"dataframe\">\n",
       "  <thead>\n",
       "    <tr style=\"text-align: right;\">\n",
       "      <th></th>\n",
       "      <th>NFL</th>\n",
       "      <th>NBA</th>\n",
       "      <th>NHL</th>\n",
       "      <th>MLB</th>\n",
       "    </tr>\n",
       "  </thead>\n",
       "  <tbody>\n",
       "    <tr>\n",
       "      <th>NFL</th>\n",
       "      <td>NaN</td>\n",
       "      <td>0.941792</td>\n",
       "      <td>0.030883</td>\n",
       "      <td>0.802069</td>\n",
       "    </tr>\n",
       "    <tr>\n",
       "      <th>NBA</th>\n",
       "      <td>0.941792</td>\n",
       "      <td>NaN</td>\n",
       "      <td>0.022297</td>\n",
       "      <td>0.950540</td>\n",
       "    </tr>\n",
       "    <tr>\n",
       "      <th>NHL</th>\n",
       "      <td>0.030883</td>\n",
       "      <td>0.022297</td>\n",
       "      <td>NaN</td>\n",
       "      <td>0.000708</td>\n",
       "    </tr>\n",
       "    <tr>\n",
       "      <th>MLB</th>\n",
       "      <td>0.802069</td>\n",
       "      <td>0.950540</td>\n",
       "      <td>0.000708</td>\n",
       "      <td>NaN</td>\n",
       "    </tr>\n",
       "  </tbody>\n",
       "</table>\n",
       "</div>"
      ],
      "text/plain": [
       "          NFL       NBA       NHL       MLB\n",
       "NFL       NaN  0.941792  0.030883  0.802069\n",
       "NBA  0.941792       NaN  0.022297  0.950540\n",
       "NHL  0.030883  0.022297       NaN  0.000708\n",
       "MLB  0.802069  0.950540  0.000708       NaN"
      ]
     },
     "execution_count": 11,
     "metadata": {},
     "output_type": "execute_result"
    }
   ],
   "source": [
    "import pandas as pd\n",
    "import numpy as np\n",
    "import scipy.stats as stats\n",
    "import re\n",
    "\n",
    "mlb_df=pd.read_csv(\"mlb.csv\")\n",
    "nhl_df=pd.read_csv(\"nhl.csv\")\n",
    "nba_df=pd.read_csv(\"nba.csv\")\n",
    "nfl_df=pd.read_csv(\"nfl.csv\")\n",
    "cities=pd.read_html(\"wikipedia_data.html\")[1]\n",
    "cities=cities.iloc[:-1,[0,3,5,6,7,8]]\n",
    "\n",
    "########################################################################\n",
    "\n",
    "#def a function that get the data as we needed\n",
    "\n",
    "def get_df(BIG4):\n",
    "    \n",
    "    cities=pd.read_html(\"wikipedia_data.html\")[1]\n",
    "    cities=cities.iloc[:-1,[0,3,5,6,7,8]] \n",
    "    big4_df=pd.read_csv(BIG4.lower()+'.csv')\n",
    "    \n",
    "# cleaning the cities dataframe\n",
    "    cities[BIG4]=cities[BIG4].apply(lambda x: re.sub(\"\\[.+\\]\", \"\", x))\n",
    "    cities= cities[cities[BIG4].str.contains(\"[a-zA-Z]\").fillna(False)]  #drop cities without any letter entry in NHL\n",
    "    cities=cities[['Metropolitan area', 'Population (2016 est.)[8]', BIG4]] # get important columns\n",
    "    cities.rename(columns={'Population (2016 est.)[8]':'Population'}, inplace = True)\n",
    "\n",
    "    multiple_teams={\"Rangers Islanders Devils\": \"Rangers,Islanders,Devils\", \"Kings Ducks\": \"Kings,Ducks\", #NHL\\ \n",
    "                    \"Knicks Nets\": \"Knicks,Nets\", \"Lakers Clippers\": \"Lakers,Clippers\", # NBA\\ \n",
    "                    \"Yankees Mets\": \"Yankees,Mets\", \"Dodgers Angels\": \"Dodgers,Angels\", \"Giants Athletics\":\"Giants,Athletics\", \"Cubs White Sox\":\"Cubs,White Sox\", # MLB\\ \n",
    "                    \"Giants Jets\": \"Giants,Jets\", \"Rams Chargers\": \"Rams,Chargers\", \"49ers Raiders\":\"49ers,Raiders\"} #NFL\n",
    "    cities[BIG4] = cities[BIG4].replace(multiple_teams)\n",
    "    cities[BIG4] = cities[BIG4].apply(lambda x: x.split(\",\")) #split the text in multiple items accroding to the comma spearator\n",
    "    cities = cities.explode(BIG4) # explode the multiples itemes create in the previus step in multiple rows\n",
    "\n",
    "########################################################################\n",
    "\n",
    "# cleaning big4_df dataframe\n",
    "    big4_df=big4_df[big4_df['year']==2018] #get 2018 data\n",
    "    big4_df=big4_df[['team', 'W', 'L']] # get win, loses columns\n",
    "    big4_df['team'] = big4_df['team'].map(lambda x: re.sub(\"\\*|\\+|\\s\\(\\d+\\)\", \"\", x)) # clear index labels having '*'\n",
    "\n",
    "########################################################################\n",
    "\n",
    "#make a dictionary with the names of the teams (the words that are in list B NHL column):\n",
    "#https://stackoverflow.com/questions/73049057/comparing-a-list-to-another-nested-list-in-python\n",
    "#https://stackoverflow.com/questions/952914/how-do-i-make-a-flat-list-out-of-a-list-of-lists\n",
    "\n",
    "    A = big4_df['team'].map(lambda x: re.split(r\" \", x))\n",
    "    B = cities[BIG4].apply(lambda x: re.split(r\" \", x))\n",
    "\n",
    "    def flatten(x):\n",
    "        for e in x:\n",
    "            if isinstance(e, list):\n",
    "                yield from flatten(e)\n",
    "            else:\n",
    "                yield e \n",
    "            \n",
    "    newlist=[x for x in flatten(A) if x in flatten(B)]\n",
    "\n",
    "    big4_df['team'] = big4_df['team'].apply(lambda x: ' '.join(i for i in x.split() if i in newlist)) #The difference with the previus aproach is that this one keep the order of the words.\n",
    "    big4_df=big4_df[(big4_df['team'] != '')]\n",
    "\n",
    "########################################################################\n",
    "\n",
    "# merge the dataframes\n",
    "\n",
    "    df = pd.merge(cities, big4_df, left_on=BIG4, right_on=\"team\")\n",
    "    df = df.astype({'W': int, 'L': int, 'Population': int}) # redifine data type for calculations\n",
    "    df['W/L rate'] = df['W']/(df['W']+df['L'])\n",
    "    df=df.groupby('Metropolitan area').agg({'W/L rate': np.mean, 'Population': np.mean, 'W':np.mean, 'L':np.mean})\n",
    "    \n",
    "    return df\n",
    "\n",
    "########################################################################\n",
    "\n",
    "\n",
    "def sports_team_performance():\n",
    "    # YOUR CODE HERE\n",
    "    #raise NotImplementedError()\n",
    "    \n",
    "    # Note: p_values is a full dataframe, so df.loc[\"NFL\",\"NBA\"] should be the same as df.loc[\"NBA\",\"NFL\"] and\n",
    "    # df.loc[\"NFL\",\"NFL\"] should return np.nan\n",
    "    sports = ['NFL', 'NBA', 'NHL', 'MLB']\n",
    "    p_values = pd.DataFrame({k:np.nan for k in sports}, index=sports)\n",
    "    \n",
    "    for i in sports:\n",
    "        for j in sports:\n",
    "            if i!=j:\n",
    "                Mi=get_df(i)\n",
    "                Mj=get_df(j)\n",
    "                Mi=Mi['W/L rate']\n",
    "                Mj=Mj['W/L rate']\n",
    "                merge=pd.merge(Mi,Mj,how='inner',left_index=True,right_index=True)\n",
    "                #print(merge)\n",
    "                p_values.loc[i, j]=stats.ttest_rel(merge['W/L rate_x'],merge['W/L rate_y'])[1]\n",
    "    \n",
    "    assert abs(p_values.loc[\"NBA\", \"NHL\"] - 0.02) <= 1e-2, \"The NBA-NHL p-value should be around 0.02\"\n",
    "    assert abs(p_values.loc[\"MLB\", \"NFL\"] - 0.80) <= 1e-2, \"The MLB-NFL p-value should be around 0.80\"\n",
    "    return p_values\n",
    "\n",
    "sports_team_performance()"
   ]
  },
  {
   "cell_type": "code",
   "execution_count": null,
   "metadata": {
    "deletable": false,
    "editable": false,
    "nbgrader": {
     "cell_type": "code",
     "checksum": "2a596ab421a45cc01168d10e8fbb8f89",
     "grade": true,
     "grade_id": "cell-fb4b9cb5ff4570a6",
     "locked": true,
     "points": 20,
     "schema_version": 3,
     "solution": false
    }
   },
   "outputs": [],
   "source": []
  },
  {
   "cell_type": "code",
   "execution_count": 7,
   "metadata": {},
   "outputs": [
    {
     "name": "stderr",
     "output_type": "stream",
     "text": [
      "findfont: Font family 'Helvetica' not found.\n",
      "findfont: Font family 'Helvetica' not found.\n",
      "findfont: Font family 'Helvetica' not found.\n",
      "findfont: Font family 'Helvetica' not found.\n",
      "findfont: Font family 'Helvetica' not found.\n",
      "findfont: Font family 'Helvetica' not found.\n",
      "findfont: Font family 'Helvetica' not found.\n",
      "findfont: Font family 'Helvetica' not found.\n",
      "findfont: Font family 'Helvetica' not found.\n",
      "findfont: Font family 'Helvetica' not found.\n",
      "findfont: Font family 'Helvetica' not found.\n",
      "findfont: Font family 'Helvetica' not found.\n",
      "findfont: Font family 'Helvetica' not found.\n",
      "findfont: Font family 'Helvetica' not found.\n",
      "findfont: Font family 'Helvetica' not found.\n",
      "findfont: Font family 'Helvetica' not found.\n",
      "findfont: Font family 'Helvetica' not found.\n",
      "findfont: Font family 'Helvetica' not found.\n",
      "findfont: Font family 'Helvetica' not found.\n",
      "findfont: Font family 'Helvetica' not found.\n",
      "findfont: Font family 'Helvetica' not found.\n",
      "findfont: Font family 'Helvetica' not found.\n",
      "findfont: Font family 'Helvetica' not found.\n",
      "findfont: Font family 'Helvetica' not found.\n",
      "findfont: Font family 'Helvetica' not found.\n",
      "findfont: Font family 'Helvetica' not found.\n",
      "findfont: Font family 'Helvetica' not found.\n",
      "findfont: Font family 'Helvetica' not found.\n",
      "findfont: Font family 'Helvetica' not found.\n",
      "findfont: Font family 'Helvetica' not found.\n",
      "findfont: Font family 'Helvetica' not found.\n",
      "findfont: Font family 'Helvetica' not found.\n",
      "findfont: Font family 'Helvetica' not found.\n",
      "findfont: Font family 'Helvetica' not found.\n",
      "findfont: Font family 'Helvetica' not found.\n",
      "findfont: Font family 'Helvetica' not found.\n",
      "findfont: Font family 'Helvetica' not found.\n"
     ]
    }
   ],
   "source": [
    "import dataframe_image as dfi\n",
    "dfi.export(sports_team_performance(), \"pvalues.png\", table_conversion='matplotlib')"
   ]
  },
  {
   "cell_type": "code",
   "execution_count": null,
   "metadata": {},
   "outputs": [],
   "source": []
  }
 ],
 "metadata": {
  "coursera": {
   "schema_names": [
    "mooc_adswpy_v1_assignment4"
   ]
  },
  "kernelspec": {
   "display_name": "Python 3 (ipykernel)",
   "language": "python",
   "name": "python3"
  },
  "language_info": {
   "codemirror_mode": {
    "name": "ipython",
    "version": 3
   },
   "file_extension": ".py",
   "mimetype": "text/x-python",
   "name": "python",
   "nbconvert_exporter": "python",
   "pygments_lexer": "ipython3",
   "version": "3.10.9"
  }
 },
 "nbformat": 4,
 "nbformat_minor": 4
}
